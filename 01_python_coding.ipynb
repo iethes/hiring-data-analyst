{
 "cells": [
  {
   "cell_type": "markdown",
   "metadata": {},
   "source": [
    "### Helper"
   ]
  },
  {
   "cell_type": "code",
   "execution_count": 1,
   "metadata": {},
   "outputs": [],
   "source": [
    "%load_ext autoreload\n",
    "%autoreload 2"
   ]
  },
  {
   "cell_type": "code",
   "execution_count": 2,
   "metadata": {},
   "outputs": [],
   "source": [
    "import json\n",
    "def read_validations(prob):\n",
    "    with open(f\"data/val{prob}.json\", \"r\") as f:\n",
    "        return json.load(f)\n",
    "\n",
    "def test_validation(prob, f, verbose=False):\n",
    "    succ = 0\n",
    "    logs = {}\n",
    "    test_cases = read_validations(prob)\n",
    "    for test_case in test_cases:\n",
    "        name = test_case[\"test_name\"]\n",
    "        test_instance = test_case[\"instance\"]\n",
    "        expected = test_case[\"expected\"]\n",
    "        ans = f(test_instance)\n",
    "        logs[name] = {\"success\":False, \"instance\":test_instance,\"expected\":expected, \"answer\":ans}\n",
    "        if ans == expected:\n",
    "            succ+=1\n",
    "            logs[name][\"success\"] = True\n",
    "    print(f\"Finished testing with {succ}/{len(test_cases)} correct answer\")\n",
    "    if verbose:\n",
    "        return logs\n",
    "    "
   ]
  },
  {
   "cell_type": "markdown",
   "metadata": {},
   "source": [
    "# Python coding test\n",
    "\n",
    "This coding test will consist of 2 questions to measure your algorithmic thinking and familiarity with python. We expect you to utilize native python package (without additional packages installed through pip). For this test there are several things to keep in mind: \n",
    "\n",
    "- We expect you to use python version 3.6 - 3.8\n",
    "- You'll be evaluated by your thought process (so write it down whether as comments or markdown cell) and the performance against our (hidden) test set. \n",
    "- The expected time for this coding test is 2 hours."
   ]
  },
  {
   "cell_type": "markdown",
   "metadata": {},
   "source": [
    "## 1. Initiator of Discount\n",
    "\n",
    "One of the products offered by magpie is the ability for brand to track the price of their products sold by their retailers. And in order to give better insight and information on their prices we also try to track the initator of discount. The first part of identifying an initiator of discount is to figure out when is the earliest that a product reduce their price in a timeframe.\n",
    "\n",
    "In this test, you'll be given a string of `N` values (1, 100) each of which is an integer value indicating the price of product (1, 50,000). You need to figure out the position `i` (0-based) where the reduction of price happened.\n",
    "\n",
    "- Reduction of price is condition where price at current position is smaller than the previous price and the start of the period\n",
    "- If there's no reduction of price returns `0`, if there's reduction of price returns the position `i` where reduction happens\n",
    "\n",
    "For example:\n",
    "\n",
    "```\n",
    "3 3 3 3\n",
    "0\n",
    "```\n",
    "\n",
    "```\n",
    "3 4 3\n",
    "0\n",
    "```\n",
    "\n",
    "```\n",
    "3 4 1\n",
    "2\n",
    "```"
   ]
  },
  {
   "cell_type": "code",
   "execution_count": 3,
   "metadata": {},
   "outputs": [
    {
     "name": "stdout",
     "output_type": "stream",
     "text": [
      "Finished testing with 3/6 correct answer\n",
      "0\n"
     ]
    }
   ],
   "source": [
    "def initiator_discount(price_str):\n",
    "    \"\"\"Find Position of Reduction of Price\n",
    "\n",
    "    Args:\n",
    "        price_str (str): string containing space separated integer\n",
    "\n",
    "    Returns:\n",
    "        int: position `i` of the reduction if exists\n",
    "    \"\"\"\n",
    "    price_list = price_str.strip().split()\n",
    "    # insert your answer here\n",
    "    return 0\n",
    "\n",
    "# Insert additional test here if needed\n",
    "print(initiator_discount(\"1 2 3 4 5\"))\n"
   ]
  },
  {
   "cell_type": "code",
   "execution_count": null,
   "metadata": {},
   "outputs": [],
   "source": [
    "# Run this cell to run code against test cases\n",
    "test_validation(1, initiator_discount, verbose=True)"
   ]
  },
  {
   "cell_type": "markdown",
   "metadata": {},
   "source": [
    "## 2. Smallest Less Five\n",
    "\n",
    "Given a string of number, find the smallest possible number you can get from removing one digit of `5`, assuming all string have at least one digit of `5`. You'll be given a string of number ranging from -999,999,999 to 999,999,999. The answer need to be an integer.\n",
    "\n",
    "In this problem, the you need to focus on the correctness rather than on performance (why do you think that's the case?)\n",
    "\n",
    "For Example\n",
    "\n",
    "```\n",
    "12345\n",
    "1234\n",
    "\n",
    "5005\n",
    "5\n",
    "```"
   ]
  },
  {
   "cell_type": "code",
   "execution_count": 4,
   "metadata": {},
   "outputs": [
    {
     "name": "stdout",
     "output_type": "stream",
     "text": [
      "0\n"
     ]
    }
   ],
   "source": [
    "def smallest_less_five(num_str):\n",
    "    \"\"\"Find Position of Reduction of Price\n",
    "\n",
    "    Args:\n",
    "        num_str (str): string of integer\n",
    "\n",
    "    Returns:\n",
    "        int: smallest possible number if one `5` is removed from `num_str`\n",
    "    \"\"\"\n",
    "    num = int(num_str)\n",
    "    # insert your answer here\n",
    "    return 0\n",
    "\n",
    "# Insert additional test bellow if needed\n",
    "print(smallest_less_five(\"1123455\"))"
   ]
  },
  {
   "cell_type": "code",
   "execution_count": null,
   "metadata": {},
   "outputs": [],
   "source": [
    "# Run this cell to run code against test cases\n",
    "test_validation(2, smallest_less_five, verbose=True)"
   ]
  }
 ],
 "metadata": {
  "interpreter": {
   "hash": "8b5e2b1bcac59457d3920a848a7ad45f922194f760e89ca9327cbe2d892f9ab7"
  },
  "kernelspec": {
   "display_name": "Python 3.8.12 ('base')",
   "language": "python",
   "name": "python3"
  },
  "language_info": {
   "codemirror_mode": {
    "name": "ipython",
    "version": 3
   },
   "file_extension": ".py",
   "mimetype": "text/x-python",
   "name": "python",
   "nbconvert_exporter": "python",
   "pygments_lexer": "ipython3",
   "version": "3.8.12"
  },
  "orig_nbformat": 4
 },
 "nbformat": 4,
 "nbformat_minor": 2
}
