{
 "cells": [
  {
   "cell_type": "code",
   "execution_count": 1,
   "metadata": {},
   "outputs": [],
   "source": [
    "%load_ext autoreload\n",
    "%load_ext sql\n",
    "%autoreload 2"
   ]
  },
  {
   "cell_type": "markdown",
   "metadata": {},
   "source": [
    "# SQL coding test\n",
    "\n",
    "This coding test will consist of 2 questions to measure your analytical skill and familiarity with SQL (in this case SQLite Flavor). We expect you to utilize SQL magic as demonstrated bellow (without additional processing on python). And we expect you to use python version 3.6 - 3.8 with environment manager (we give example using venv, but you're free to use conda/pyenv)\n",
    "\n",
    "You'll be evaluated by your thought process (so write it down as markdown cell) and according to how correct and efficient your query is. The expected time for this coding test is 3 hours."
   ]
  },
  {
   "cell_type": "code",
   "execution_count": 2,
   "metadata": {
    "vscode": {
     "languageId": "sql"
    }
   },
   "outputs": [
    {
     "name": "stdout",
     "output_type": "stream",
     "text": [
      "Done.\n"
     ]
    },
    {
     "data": {
      "text/html": [
       "<table>\n",
       "    <tr>\n",
       "        <th>index</th>\n",
       "        <th>date</th>\n",
       "        <th>ecommerce_platform</th>\n",
       "        <th>brand</th>\n",
       "        <th>gmv</th>\n",
       "    </tr>\n",
       "    <tr>\n",
       "        <td>0</td>\n",
       "        <td>2022-01-21</td>\n",
       "        <td>Tokopedia</td>\n",
       "        <td>Susu Bendera</td>\n",
       "        <td>6000860</td>\n",
       "    </tr>\n",
       "    <tr>\n",
       "        <td>1</td>\n",
       "        <td>2022-01-21</td>\n",
       "        <td>Tokopedia</td>\n",
       "        <td>BMT</td>\n",
       "        <td>2703000</td>\n",
       "    </tr>\n",
       "    <tr>\n",
       "        <td>2</td>\n",
       "        <td>2022-01-22</td>\n",
       "        <td>Tokopedia</td>\n",
       "        <td>BMT</td>\n",
       "        <td>4276000</td>\n",
       "    </tr>\n",
       "</table>"
      ],
      "text/plain": [
       "[(0, '2022-01-21', 'Tokopedia', 'Susu Bendera', 6000860),\n",
       " (1, '2022-01-21', 'Tokopedia', 'BMT', 2703000),\n",
       " (2, '2022-01-22', 'Tokopedia', 'BMT', 4276000)]"
      ]
     },
     "execution_count": 2,
     "metadata": {},
     "output_type": "execute_result"
    }
   ],
   "source": [
    "%%sql sqlite:///data/gmv.db\n",
    "-- Don't change the above magic (line with double percent sign (%))\n",
    "-- Insert Your query below\n",
    "SELECT * FROM gmv LIMIT 3\n"
   ]
  },
  {
   "cell_type": "markdown",
   "metadata": {},
   "source": [
    "## 1. Price Tracking Summary\n",
    "\n",
    "In Magpie, we're responsible for tracking several product prices in order to make sure it's still inside acceptable range denoted by corresponding brands. One way to understand those data is by summarizing the data over a period of time for specific categories. You are given `price_track` table which have the information of an item average price in a month, `item_details` that contains the item's information extracted from the page corresponding to the `url`, and lastly  `sku_details` which contains the product taxonomy for the item's `sku_type`.\n",
    "\n",
    "Using those information, summarize the price range and average price for the items that has `gramasi` higher than 1200 (exclusive) and price range higher than 10,000. \n",
    "\n",
    "Those three tables have the following schema:\n",
    "```SQL\n",
    "CREATE TABLE IF NOT EXISTS \"price_track\" (\n",
    "  \"month\" TEXT,\n",
    "  \"url\" TEXT,\n",
    "  \"price\" INTEGER\n",
    ");\n",
    "\n",
    "CREATE TABLE IF NOT EXISTS \"item_details\" (\n",
    "  \"ecommerce_platform\" TEXT,\n",
    "  \"sku_name\" TEXT,\n",
    "  \"url\" TEXT,\n",
    "  \"principal\" TEXT,\n",
    "  \"merchant_name\" TEXT,\n",
    "  \"merchant_cities\" TEXT,\n",
    "  \"merchant_province\" TEXT,\n",
    "  \"bundle\" TEXT,\n",
    "  \"sku_type\" TEXT\n",
    ");\n",
    "\n",
    "CREATE TABLE IF NOT EXISTS \"sku_details\" (\n",
    "  \"sku_type\" TEXT,\n",
    "  \"sub_brand\" TEXT,\n",
    "  \"kemasan\" TEXT,\n",
    "  \"rasa\" TEXT,\n",
    "  \"braket_kemasan_dancow\" TEXT,\n",
    "  \"stage\" TEXT,\n",
    "  \"gramasi\" INTEGER,\n",
    "  \"satuan\" TEXT\n",
    ");\n",
    "```\n",
    "\n",
    "You are expected to return a table with columns `url`, `range`, `average`, `sub_brand`, `gramasi` and sorted by `sub_brand` alphabetically."
   ]
  },
  {
   "cell_type": "code",
   "execution_count": 5,
   "metadata": {
    "vscode": {
     "languageId": "sql"
    }
   },
   "outputs": [
    {
     "name": "stdout",
     "output_type": "stream",
     "text": [
      "Done.\n"
     ]
    },
    {
     "data": {
      "text/html": [
       "<table>\n",
       "    <tr>\n",
       "        <th>index</th>\n",
       "        <th>month</th>\n",
       "        <th>url</th>\n",
       "        <th>price</th>\n",
       "    </tr>\n",
       "    <tr>\n",
       "        <td>0</td>\n",
       "        <td>2021-09-01</td>\n",
       "        <td>https://shopee.co.id/Susu-Bendera-1-1-3-Tahun-Madu-600-gr-3-Pcs-i.178189963.3233122881</td>\n",
       "        <td>125600</td>\n",
       "    </tr>\n",
       "    <tr>\n",
       "        <td>1</td>\n",
       "        <td>2021-10-01</td>\n",
       "        <td>https://shopee.co.id/Susu-Bendera-1-1-3-Tahun-Madu-600-gr-3-Pcs-i.178189963.3233122881</td>\n",
       "        <td>144000</td>\n",
       "    </tr>\n",
       "    <tr>\n",
       "        <td>2</td>\n",
       "        <td>2021-11-01</td>\n",
       "        <td>https://shopee.co.id/Susu-Bendera-1-1-3-Tahun-Madu-600-gr-3-Pcs-i.178189963.3233122881</td>\n",
       "        <td>144000</td>\n",
       "    </tr>\n",
       "</table>"
      ],
      "text/plain": [
       "[(0, '2021-09-01', 'https://shopee.co.id/Susu-Bendera-1-1-3-Tahun-Madu-600-gr-3-Pcs-i.178189963.3233122881', 125600),\n",
       " (1, '2021-10-01', 'https://shopee.co.id/Susu-Bendera-1-1-3-Tahun-Madu-600-gr-3-Pcs-i.178189963.3233122881', 144000),\n",
       " (2, '2021-11-01', 'https://shopee.co.id/Susu-Bendera-1-1-3-Tahun-Madu-600-gr-3-Pcs-i.178189963.3233122881', 144000)]"
      ]
     },
     "execution_count": 5,
     "metadata": {},
     "output_type": "execute_result"
    }
   ],
   "source": [
    "%%sql sqlite:///data/price.db\n",
    "-- Modify the query bellow\n",
    "SELECT * FROM price_track LIMIT 3"
   ]
  },
  {
   "cell_type": "markdown",
   "metadata": {},
   "source": [
    "## 2. Sales Growth\n",
    "\n",
    "In Digital Shelf Analysis, we're concerned about the growth of a product and their performance from month to month. Here you are given a table named `gmv` which contains non-zero daily gmv of a certain brand. And you are tasked to calculate several metrics in order to give insight to our client.\n",
    "> If there are missing day, assume that the corresponding brand has zero gmv for that day.\n",
    "\n",
    "```SQL\n",
    "CREATE TABLE IF NOT EXISTS \"gmv\" (\n",
    "\"index\" INTEGER,\n",
    "  \"date\" TEXT,\n",
    "  \"ecommerce_platform\" TEXT,\n",
    "  \"brand\" TEXT,\n",
    "  \"gmv\" INTEGER\n",
    ");\n",
    "```\n",
    "\n",
    "### 2.1 Monthly Share\n",
    "Calculate the monthly share of the brand, i.e. compared to the grand total of that month's gmv, calculate the percent share of each brand.\n",
    "You are expected to return a table with columns `brand`, `month`, `brand_gmv`, `gmv_pct` sorted by `brand` alphabetically then chronologically.\n",
    "\n",
    "### 2.2 Monthly Growth\n",
    "Calculate the growth of the brand `Susu Bendera` from month to month. i.e. compared to previous month, how many %growth does the brand experience this month (for the first month assume 0% growth)\n",
    "You are expected to return a table with columns `brand`, `month`, `brand_gmv`, `growth_pct` sorted by `brand` alphabetically then chronologically.\n",
    "\n",
    "### 2.3 Rolling Sum\n",
    "Calculates the 3 month rolling sum of each brand. i.e. the total gmv from the previous 3 months up until previous month. (assume the months that's not listed in the table has 0 GMV)\n",
    "You are expected to return a table with columns `brand`, `month`, `brand_gmv`, `gmv_r3m` sorted by `brand` alphabetically then chronologically."
   ]
  },
  {
   "cell_type": "code",
   "execution_count": 9,
   "metadata": {
    "vscode": {
     "languageId": "sql"
    }
   },
   "outputs": [
    {
     "name": "stdout",
     "output_type": "stream",
     "text": [
      "Done.\n"
     ]
    },
    {
     "data": {
      "text/html": [
       "<table>\n",
       "    <tr>\n",
       "        <th>index</th>\n",
       "        <th>date</th>\n",
       "        <th>ecommerce_platform</th>\n",
       "        <th>brand</th>\n",
       "        <th>gmv</th>\n",
       "    </tr>\n",
       "    <tr>\n",
       "        <td>0</td>\n",
       "        <td>2022-01-21</td>\n",
       "        <td>Tokopedia</td>\n",
       "        <td>Susu Bendera</td>\n",
       "        <td>6000860</td>\n",
       "    </tr>\n",
       "    <tr>\n",
       "        <td>1</td>\n",
       "        <td>2022-01-21</td>\n",
       "        <td>Tokopedia</td>\n",
       "        <td>BMT</td>\n",
       "        <td>2703000</td>\n",
       "    </tr>\n",
       "    <tr>\n",
       "        <td>2</td>\n",
       "        <td>2022-01-22</td>\n",
       "        <td>Tokopedia</td>\n",
       "        <td>BMT</td>\n",
       "        <td>4276000</td>\n",
       "    </tr>\n",
       "</table>"
      ],
      "text/plain": [
       "[(0, '2022-01-21', 'Tokopedia', 'Susu Bendera', 6000860),\n",
       " (1, '2022-01-21', 'Tokopedia', 'BMT', 2703000),\n",
       " (2, '2022-01-22', 'Tokopedia', 'BMT', 4276000)]"
      ]
     },
     "execution_count": 9,
     "metadata": {},
     "output_type": "execute_result"
    }
   ],
   "source": [
    "%%sql sqlite:///data/gmv.db\n",
    "-- Modify the following query\n",
    "SELECT * FROM gmv LIMIT 3"
   ]
  }
 ],
 "metadata": {
  "interpreter": {
   "hash": "12904051879d88f9efe4117156d91f1de7d9178cfe372b7857993b82e71c7910"
  },
  "kernelspec": {
   "display_name": "Python 3.8.12 ('venv': venv)",
   "language": "python",
   "name": "python3"
  },
  "language_info": {
   "codemirror_mode": {
    "name": "ipython",
    "version": 3
   },
   "file_extension": ".py",
   "mimetype": "text/x-python",
   "name": "python",
   "nbconvert_exporter": "python",
   "pygments_lexer": "ipython3",
   "version": "3.8.12"
  },
  "orig_nbformat": 4
 },
 "nbformat": 4,
 "nbformat_minor": 2
}
